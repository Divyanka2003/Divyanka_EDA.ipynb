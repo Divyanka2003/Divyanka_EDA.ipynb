{
  "nbformat": 4,
  "nbformat_minor": 0,
  "metadata": {
    "colab": {
      "provenance": []
    },
    "kernelspec": {
      "name": "python3",
      "display_name": "Python 3"
    },
    "language_info": {
      "name": "python"
    }
  },
  "cells": [
    {
      "cell_type": "code",
      "execution_count": 5,
      "metadata": {
        "colab": {
          "base_uri": "https://localhost:8080/"
        },
        "id": "lkZj4bgQWvEe",
        "outputId": "98b1dedb-22b9-4560-af01-0b14c5466017"
      },
      "outputs": [
        {
          "output_type": "stream",
          "name": "stdout",
          "text": [
            "  TransactionID CustomerID ProductID      TransactionDate  Quantity  \\\n",
            "0        T00001      C0199      P067  2024-08-25 12:38:23         1   \n",
            "1        T00112      C0146      P067  2024-05-27 22:23:54         1   \n",
            "2        T00166      C0127      P067  2024-04-25 07:38:55         1   \n",
            "3        T00272      C0087      P067  2024-03-26 22:55:37         2   \n",
            "4        T00363      C0070      P067  2024-03-21 15:10:10         3   \n",
            "\n",
            "   TotalValue  Price_x                      ProductName     Category  Price_y  \\\n",
            "0      300.68   300.68  ComfortLiving Bluetooth Speaker  Electronics   300.68   \n",
            "1      300.68   300.68  ComfortLiving Bluetooth Speaker  Electronics   300.68   \n",
            "2      300.68   300.68  ComfortLiving Bluetooth Speaker  Electronics   300.68   \n",
            "3      601.36   300.68  ComfortLiving Bluetooth Speaker  Electronics   300.68   \n",
            "4      902.04   300.68  ComfortLiving Bluetooth Speaker  Electronics   300.68   \n",
            "\n",
            "      CustomerName         Region  SignupDate  \n",
            "0   Andrea Jenkins         Europe  2022-12-03  \n",
            "1  Brittany Harvey           Asia  2024-09-04  \n",
            "2  Kathryn Stevens         Europe  2024-04-04  \n",
            "3  Travis Campbell  South America  2024-04-11  \n",
            "4    Timothy Perez         Europe  2022-03-15  \n",
            "  CustomerID  TotalTransactions  AvgTransactionValue\n",
            "0      C0001                  5              670.904\n",
            "1      C0002                  4              465.685\n",
            "2      C0003                  4              681.345\n",
            "3      C0004                  8              669.360\n",
            "4      C0005                  3              678.080\n",
            "{'C0001': [('C0195', 2.065831255881638), ('C0004', 3.3740088915117425), ('C0137', 4.394000000000119)], 'C0002': [('C0076', 1.3635721469727715), ('C0071', 1.6072967298472796), ('C0198', 2.013181561608393)], 'C0003': [('C0067', 2.0525925341165845), ('C0005', 3.4147071616757874), ('C0178', 4.1375000000000455)], 'C0004': [('C0001', 3.3740088915117425), ('C0195', 3.9030333645056876), ('C0137', 4.137934267240132)], 'C0005': [('C0178', 1.327123298717984), ('C0152', 2.1964662528707866), ('C0003', 3.4147071616757874)], 'C0006': [('C0079', 5.997499999999945), ('C0115', 11.210523361011104), ('C0141', 12.088611593148336)], 'C0007': [('C0023', 3.004534073695951), ('C0045', 4.012552752530087), ('C0013', 4.8355832436348445)], 'C0008': [('C0088', 5.000722447806916), ('C0010', 6.399789234810819), ('C0047', 17.3452637592384)], 'C0009': [('C0094', 7.160999745923103), ('C0049', 10.645593898155425), ('C0077', 19.73333333333335)], 'C0010': [('C0088', 2.5185377205831383), ('C0008', 6.399789234810819), ('C0029', 17.079999999999984)], 'C0011': [('C0012', 2.3979055486836724), ('C0125', 2.70186972298813), ('C0068', 3.718737184851863)], 'C0012': [('C0011', 2.3979055486836724), ('C0165', 2.813204010597228), ('C0068', 3.659633098175917)], 'C0013': [('C0023', 2.741064239171557), ('C0045', 3.0342857142857156), ('C0007', 4.8355832436348445)], 'C0014': [('C0147', 12.000128600133928), ('C0009', 19.927285593153748), ('C0094', 27.084161538618858)], 'C0015': [('C0150', 1.88679622641134), ('C0174', 3.020347662107794), ('C0069', 4.244055136305337)], 'C0016': [('C0022', 1.3869105955323169), ('C0176', 2.990024600419053), ('C0048', 4.69600000000014)], 'C0017': [('C0090', 3.220951995948447), ('C0190', 3.8272382013666686), ('C0081', 4.306723506461855)], 'C0018': [('C0200', 4.650000000000091), ('C0163', 6.257092864190936), ('C0140', 12.660568707605693)], 'C0019': [('C0172', 2.646666666666704), ('C0157', 10.962372512878384), ('C0043', 13.150108153336518)], 'C0020': [('C0187', 4.00076042771871), ('C0158', 7.3592390911017675), ('C0110', 19.910000000000082)]}\n",
            "Lookalike results saved to Lookalike.csv!\n"
          ]
        }
      ],
      "source": [
        "import pandas as pd\n",
        "from sklearn.neighbors import NearestNeighbors\n",
        "import numpy as np\n",
        "\n",
        "# Load datasets\n",
        "customers_url = 'https://drive.google.com/uc?id=1bu_--mo79VdUG9oin4ybfFGRUSXAe-WE'\n",
        "products_url = 'https://drive.google.com/uc?id=1IKuDizVapw-hyktwfpoAoaGtHtTNHfd0'\n",
        "transactions_url = 'https://drive.google.com/uc?id=1saEqdbBB-vuk2hxoAf4TzDEsykdKlzbF'\n",
        "\n",
        "customers = pd.read_csv(customers_url)\n",
        "products = pd.read_csv(products_url)\n",
        "transactions = pd.read_csv(transactions_url)\n",
        "\n",
        "# Merge transactions with products to get product details in transactions\n",
        "transactions_products = pd.merge(transactions, products, on='ProductID')\n",
        "\n",
        "# Merge with customers to get customer details in transactions\n",
        "full_data = pd.merge(transactions_products, customers, on='CustomerID')\n",
        "\n",
        "# Display the combined data\n",
        "print(full_data.head())\n",
        "\n",
        "# Example feature: Total number of transactions per customer\n",
        "customer_transactions = full_data.groupby('CustomerID').size().reset_index(name='TotalTransactions')\n",
        "\n",
        "# Example feature: Average transaction value per customer\n",
        "customer_avg_value = full_data.groupby('CustomerID')['TotalValue'].mean().reset_index(name='AvgTransactionValue')\n",
        "\n",
        "# Combine these features into one DataFrame\n",
        "customer_features = pd.merge(customer_transactions, customer_avg_value, on='CustomerID')\n",
        "\n",
        "# Show the customer features\n",
        "print(customer_features.head())\n",
        "\n",
        "# Convert features to numerical format for modeling\n",
        "features = customer_features.drop('CustomerID', axis=1).values\n",
        "\n",
        "# Initialize the Nearest Neighbors model\n",
        "nn = NearestNeighbors(n_neighbors=4, algorithm='auto')\n",
        "\n",
        "# Fit the model\n",
        "nn.fit(features)\n",
        "\n",
        "# Find top 3 lookalike customers for each customer\n",
        "distances, indices = nn.kneighbors(features)\n",
        "\n",
        "# Store the results in a dictionary\n",
        "lookalikes = {}\n",
        "for i in range(features.shape[0]):\n",
        "    similar_indices = indices[i][1:]  # Exclude the customer itself\n",
        "    similar_customers = [(customer_features.iloc[j]['CustomerID'], distances[i][k+1]) for k, j in enumerate(similar_indices)]\n",
        "    lookalikes[customer_features.iloc[i]['CustomerID']] = similar_customers\n",
        "\n",
        "# Display the lookalike results for the first 20 customers\n",
        "result_dict = {k: lookalikes[k] for k in list(lookalikes.keys())[:20]}\n",
        "print(result_dict)\n",
        "\n",
        "import csv\n",
        "\n",
        "# Save the results to a CSV file\n",
        "with open('Lookalike.csv', 'w', newline='') as csvfile:\n",
        "    writer = csv.writer(csvfile)\n",
        "    writer.writerow(['CustomerID', 'Lookalikes'])\n",
        "    for customer_id, lookalikes in result_dict.items():\n",
        "        writer.writerow([customer_id, lookalikes])\n",
        "\n",
        "print('Lookalike results saved to Lookalike.csv!')\n"
      ]
    }
  ]
}